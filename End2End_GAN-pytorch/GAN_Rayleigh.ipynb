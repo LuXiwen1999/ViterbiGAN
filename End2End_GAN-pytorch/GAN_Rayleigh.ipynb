{
 "cells": [
  {
   "cell_type": "code",
   "execution_count": 1,
   "metadata": {
    "collapsed": true,
    "pycharm": {
     "name": "#%% 使用GAN模拟瑞利衰减的信道分布（Pytorch）\n"
    }
   },
   "outputs": [],
   "source": [
    "import numpy as np\n",
    "import torch\n",
    "import torch.nn as nn"
   ]
  },
  {
   "cell_type": "code",
   "execution_count": 6,
   "outputs": [],
   "source": [
    "np.random.seed(100)\n",
    "\n",
    "mean_set_QAM = np.asarray([-3 - 3j, -3 - 1j, -3 + 1j, -3 + 3j, -1 - 3j, -1 - 1j, -1 + 1j, -1 + 3j,\n",
    "                           1 - 3j, 1 - 1j, 1 + 1j, 1 + 3j, 3 - 3j, 3 - 1j, 3 + 1j, 3 + 3j\n",
    "                           ], dtype=np.complex64)\n",
    "\n",
    "def generate_real_samples_with_labels_Rayleigh(number=100):\n",
    "    h_r = np.random.normal(scale=np.sqrt(2) / 2, size=number)\n",
    "    h_i = np.random.normal(scale=np.sqrt(2) / 2, size=number)\n",
    "    h_complex = h_r + 1j * h_i\n",
    "    labels_index = np.random.choice(len(mean_set_QAM), number)\n",
    "    data = mean_set_QAM[labels_index]\n",
    "    received_data = h_complex * data\n",
    "    received_data = np.hstack(\n",
    "        (np.real(received_data).reshape(len(data), 1), np.imag(received_data).reshape(len(data), 1)))\n",
    "    gaussion_random = np.random.multivariate_normal([0, 0], [[0.01, 0], [0, 0.01]], number).astype(np.float32)\n",
    "    received_data = received_data + gaussion_random\n",
    "    conditioning = np.hstack((np.real(data).reshape(len(data), 1), np.imag(data).reshape(len(data), 1),\n",
    "                              h_r.reshape(len(data), 1), h_i.reshape(len(data), 1))) / 3\n",
    "    return received_data, conditioning\n",
    "\n"
   ],
   "metadata": {
    "collapsed": false,
    "pycharm": {
     "name": "#%% 初始数据准备\n"
    }
   }
  },
  {
   "cell_type": "code",
   "execution_count": 5,
   "outputs": [],
   "source": [
    "class generator_conditional(nn.Module):\n",
    "    def __init__(self, z, conditioning):\n",
    "        super(generator_conditional, self).__init__()\n",
    "        self.main = nn.Sequential(\n",
    "            nn.Linear(z+conditioning,32),\n",
    "            nn.ReLU(),\n",
    "            nn.Linear(32,32),\n",
    "            nn.ReLU(),\n",
    "            nn.Linear(32,32),\n",
    "            nn.ReLU(),\n",
    "            nn.Linear(32,1)\n",
    "        )\n",
    "\n",
    "    def forward(self, input):\n",
    "        self.main(input)\n",
    "\n",
    "class discriminator_conditional(nn.Module):\n",
    "    def __init__(self, X, conditioning):\n",
    "        super(discriminator_conditional, self).__init__()\n",
    "        self.main = nn.Sequential(\n",
    "            nn.Linear(X+conditioning, 128),\n",
    "            nn.ReLU(),\n",
    "            nn.Linear(128, 128),\n",
    "            nn.ReLU(),\n",
    "            nn.Linear(128, 128),\n",
    "            nn.ReLU(),\n",
    "            nn.Linear(128, 2),\n",
    "            nn.Sigmoid()\n",
    "        )\n",
    "\n",
    "    def forward(self, input):\n",
    "        return self.main(input)\n"
   ],
   "metadata": {
    "collapsed": false,
    "pycharm": {
     "name": "#%% 模型搭建\n"
    }
   }
  },
  {
   "cell_type": "code",
   "execution_count": 8,
   "outputs": [],
   "source": [
    "data_size = 10000\n",
    "data, one_hot_labels = generate_real_samples_with_labels_Rayleigh(data_size)\n"
   ],
   "metadata": {
    "collapsed": false,
    "pycharm": {
     "name": "#%% 模型训练\n"
    }
   }
  },
  {
   "cell_type": "code",
   "execution_count": 3,
   "outputs": [
    {
     "name": "stdout",
     "output_type": "stream",
     "text": [
      "generator_conditional(\n",
      "  (main): Sequential(\n",
      "    (0): Linear(in_features=6, out_features=32, bias=True)\n",
      "    (1): ReLU()\n",
      "    (2): Linear(in_features=32, out_features=32, bias=True)\n",
      "    (3): ReLU()\n",
      "    (4): Linear(in_features=32, out_features=32, bias=True)\n",
      "    (5): ReLU()\n",
      "    (6): Linear(in_features=32, out_features=1, bias=True)\n",
      "  )\n",
      ")\n"
     ]
    }
   ],
   "source": [
    "G = generator_conditional(2, 4)\n",
    "print(G)"
   ],
   "metadata": {
    "collapsed": false,
    "pycharm": {
     "name": "#%% 模型测试推理\n"
    }
   }
  },
  {
   "cell_type": "code",
   "execution_count": 6,
   "outputs": [
    {
     "name": "stdout",
     "output_type": "stream",
     "text": [
      "discriminator_conditional(\n",
      "  (main): Sequential(\n",
      "    (0): Linear(in_features=20, out_features=128, bias=True)\n",
      "    (1): ReLU()\n",
      "    (2): Linear(in_features=128, out_features=128, bias=True)\n",
      "    (3): ReLU()\n",
      "    (4): Linear(in_features=128, out_features=128, bias=True)\n",
      "    (5): ReLU()\n",
      "    (6): Linear(in_features=128, out_features=2, bias=True)\n",
      "    (7): Sigmoid()\n",
      "  )\n",
      ")\n"
     ]
    }
   ],
   "source": [
    "D = discriminator_conditional(16,4)\n",
    "print(D)"
   ],
   "metadata": {
    "collapsed": false,
    "pycharm": {
     "name": "#%%\n"
    }
   }
  },
  {
   "cell_type": "code",
   "execution_count": 15,
   "outputs": [],
   "source": [
    "a = np.random.rand(32,6)\n",
    "\n",
    "c = G(torch.tensor(a).to(torch.float32))\n",
    "c"
   ],
   "metadata": {
    "collapsed": false,
    "pycharm": {
     "name": "#%%\n"
    }
   }
  },
  {
   "cell_type": "code",
   "execution_count": 17,
   "outputs": [
    {
     "data": {
      "text/plain": "array([[3.28057068, 0.99448694, 2.72099857],\n       [4.17553159, 0.89816245, 2.73885692]])"
     },
     "execution_count": 17,
     "metadata": {},
     "output_type": "execute_result"
    }
   ],
   "source": [
    "x = np.random.rayleigh(scale=2, size = (2,3))\n",
    "x"
   ],
   "metadata": {
    "collapsed": false,
    "pycharm": {
     "name": "#%%\n"
    }
   }
  },
  {
   "cell_type": "code",
   "execution_count": null,
   "outputs": [],
   "source": [],
   "metadata": {
    "collapsed": false,
    "pycharm": {
     "name": "#%%\n"
    }
   }
  }
 ],
 "metadata": {
  "kernelspec": {
   "display_name": "Python 3",
   "language": "python",
   "name": "python3"
  },
  "language_info": {
   "codemirror_mode": {
    "name": "ipython",
    "version": 2
   },
   "file_extension": ".py",
   "mimetype": "text/x-python",
   "name": "python",
   "nbconvert_exporter": "python",
   "pygments_lexer": "ipython2",
   "version": "2.7.6"
  }
 },
 "nbformat": 4,
 "nbformat_minor": 0
}