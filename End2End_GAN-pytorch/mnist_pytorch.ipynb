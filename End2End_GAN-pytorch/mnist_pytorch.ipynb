{
 "cells": [
  {
   "cell_type": "code",
   "execution_count": 1,
   "metadata": {
    "collapsed": true
   },
   "outputs": [],
   "source": [
    "import torch\n",
    "import torchvision\n",
    "import matplotlib.pyplot as plt\n",
    "from PIL import Image\n",
    "import numpy as np\n",
    "from torch.utils.data import DataLoader\n",
    "\n",
    "# 1. 使用DataLoader读取数据集\n",
    "# 注释部分为对于MNIST数据集的标准化处理\n",
    "\n",
    "batch_size_train = 64\n",
    "batch_size_test = 1000\n",
    "\n",
    "train_loader = torch.utils.data.DataLoader(\n",
    "  torchvision.datasets.MNIST('./mnist_data/', train=True, download=True,\n",
    "                             transform=torchvision.transforms.Compose([\n",
    "                               torchvision.transforms.ToTensor()\n",
    "                               # ,torchvision.transforms.Normalize((0.1307,), (0.3081,))\n",
    "                             ])),\n",
    "  batch_size=batch_size_train, shuffle=True)\n",
    "\n",
    "test_loader = torch.utils.data.DataLoader(\n",
    "  torchvision.datasets.MNIST('./mnist_data/', train=False, download=True,\n",
    "                             transform=torchvision.transforms.Compose([\n",
    "                               torchvision.transforms.ToTensor()\n",
    "                                 # ,torchvision.transforms.Normalize((0.1307,), (0.3081,))\n",
    "                             ])),\n",
    "  batch_size=batch_size_test, shuffle=True)"
   ]
  },
  {
   "cell_type": "code",
   "execution_count": 5,
   "outputs": [
    {
     "name": "stdout",
     "output_type": "stream",
     "text": [
      "0\n",
      "tensor([[0.0000, 0.0000, 0.0000, 0.0000, 0.0000, 0.0000, 0.0000, 0.0000, 0.0000,\n",
      "         0.0000, 0.0000, 0.0000, 0.0000, 0.0000, 0.0000, 0.0000, 0.0000, 0.0000,\n",
      "         0.0000, 0.0000, 0.0000, 0.0000, 0.0000, 0.0000, 0.0000, 0.0000, 0.0000,\n",
      "         0.0000],\n",
      "        [0.0000, 0.0000, 0.0000, 0.0000, 0.0000, 0.0000, 0.0000, 0.0000, 0.0000,\n",
      "         0.0000, 0.0000, 0.0000, 0.0000, 0.0000, 0.0000, 0.0000, 0.0000, 0.0000,\n",
      "         0.0000, 0.0000, 0.0000, 0.0000, 0.0000, 0.0000, 0.0000, 0.0000, 0.0000,\n",
      "         0.0000],\n",
      "        [0.0000, 0.0000, 0.0000, 0.0000, 0.0000, 0.0000, 0.0000, 0.0000, 0.0000,\n",
      "         0.0000, 0.0000, 0.0000, 0.0000, 0.0000, 0.0000, 0.0000, 0.0000, 0.0000,\n",
      "         0.0000, 0.0000, 0.0000, 0.0000, 0.0000, 0.0000, 0.0000, 0.0000, 0.0000,\n",
      "         0.0000],\n",
      "        [0.0000, 0.0000, 0.0000, 0.0000, 0.0000, 0.0000, 0.0000, 0.0000, 0.0000,\n",
      "         0.0000, 0.0000, 0.0000, 0.0000, 0.0000, 0.0000, 0.0000, 0.0000, 0.0000,\n",
      "         0.0000, 0.0000, 0.0000, 0.0000, 0.0000, 0.0000, 0.0000, 0.0000, 0.0000,\n",
      "         0.0000],\n",
      "        [0.0000, 0.0000, 0.0000, 0.0000, 0.0000, 0.0000, 0.0000, 0.0000, 0.0000,\n",
      "         0.0000, 0.0000, 0.0000, 0.0000, 0.0000, 0.0000, 0.0000, 0.0000, 0.0000,\n",
      "         0.0000, 0.0000, 0.0000, 0.0000, 0.0000, 0.0000, 0.0000, 0.0000, 0.0000,\n",
      "         0.0000],\n",
      "        [0.0000, 0.0000, 0.0000, 0.0000, 0.0000, 0.0000, 0.0000, 0.0000, 0.0000,\n",
      "         0.0000, 0.0000, 0.0000, 0.0000, 0.0000, 0.0000, 0.0000, 0.0000, 0.0000,\n",
      "         0.0000, 0.0000, 0.0000, 0.0000, 0.0000, 0.0000, 0.0000, 0.0000, 0.0000,\n",
      "         0.0000],\n",
      "        [0.0000, 0.0000, 0.0000, 0.0000, 0.0000, 0.0000, 0.0000, 0.0000, 0.0000,\n",
      "         0.0000, 0.0000, 0.0235, 0.2667, 0.5647, 0.8118, 0.9961, 0.9961, 0.3451,\n",
      "         0.0000, 0.0000, 0.0000, 0.0000, 0.0000, 0.0000, 0.0000, 0.0000, 0.0000,\n",
      "         0.0000],\n",
      "        [0.0000, 0.0000, 0.0000, 0.0000, 0.0000, 0.0000, 0.0000, 0.0000, 0.0000,\n",
      "         0.0000, 0.1255, 0.5765, 0.9922, 0.9922, 0.9961, 0.9922, 0.9922, 0.9059,\n",
      "         0.0000, 0.0000, 0.0000, 0.0000, 0.0000, 0.0000, 0.0000, 0.0000, 0.0000,\n",
      "         0.0000],\n",
      "        [0.0000, 0.0000, 0.0000, 0.0000, 0.0000, 0.0000, 0.0000, 0.0000, 0.0000,\n",
      "         0.0000, 0.6471, 0.9922, 0.9922, 0.6510, 0.1725, 0.1725, 0.5294, 0.9255,\n",
      "         0.1373, 0.0000, 0.0000, 0.0000, 0.0000, 0.0000, 0.0000, 0.0000, 0.0000,\n",
      "         0.0000],\n",
      "        [0.0000, 0.0000, 0.0000, 0.0000, 0.0000, 0.0000, 0.0000, 0.0000, 0.0000,\n",
      "         0.5608, 0.9922, 0.9020, 0.3412, 0.0078, 0.0000, 0.0000, 0.0000, 0.2745,\n",
      "         0.1020, 0.0588, 0.0000, 0.0000, 0.0000, 0.0000, 0.0000, 0.0000, 0.0000,\n",
      "         0.0000],\n",
      "        [0.0000, 0.0000, 0.0000, 0.0000, 0.0000, 0.0000, 0.0000, 0.0000, 0.0000,\n",
      "         0.7804, 0.9922, 0.8196, 0.0000, 0.0000, 0.0000, 0.0000, 0.0000, 0.8039,\n",
      "         0.9922, 0.6471, 0.0000, 0.0000, 0.0000, 0.0000, 0.0000, 0.0000, 0.0000,\n",
      "         0.0000],\n",
      "        [0.0000, 0.0000, 0.0000, 0.0000, 0.0000, 0.0000, 0.0000, 0.0000, 0.0784,\n",
      "         0.8549, 0.9922, 0.4824, 0.0000, 0.0000, 0.0000, 0.0000, 0.1373, 0.9686,\n",
      "         0.9922, 0.6471, 0.0000, 0.0000, 0.0000, 0.0000, 0.0000, 0.0000, 0.0000,\n",
      "         0.0000],\n",
      "        [0.0000, 0.0000, 0.0000, 0.0000, 0.0000, 0.0000, 0.0000, 0.0000, 0.2196,\n",
      "         0.9922, 0.9529, 0.0353, 0.0000, 0.0000, 0.0000, 0.1451, 0.8706, 0.9922,\n",
      "         0.9922, 0.2510, 0.0000, 0.0000, 0.0000, 0.0000, 0.0000, 0.0000, 0.0000,\n",
      "         0.0000],\n",
      "        [0.0000, 0.0000, 0.0000, 0.0000, 0.0000, 0.0000, 0.0000, 0.0000, 0.2941,\n",
      "         0.9922, 0.9490, 0.0000, 0.0000, 0.0000, 0.3490, 0.8784, 0.9922, 0.9922,\n",
      "         0.8627, 0.0863, 0.0000, 0.0000, 0.0000, 0.0000, 0.0000, 0.0000, 0.0000,\n",
      "         0.0000],\n",
      "        [0.0000, 0.0000, 0.0000, 0.0000, 0.0000, 0.0000, 0.0000, 0.0000, 0.5176,\n",
      "         0.9922, 0.9647, 0.1216, 0.0941, 0.3059, 0.8863, 0.9922, 0.9922, 0.9922,\n",
      "         0.7765, 0.0000, 0.0000, 0.0000, 0.0000, 0.0000, 0.0000, 0.0000, 0.0000,\n",
      "         0.0000],\n",
      "        [0.0000, 0.0000, 0.0000, 0.0000, 0.0000, 0.0000, 0.0000, 0.0000, 0.1255,\n",
      "         0.9020, 0.9922, 0.9176, 0.9059, 0.9922, 0.9961, 0.5765, 0.4706, 0.9922,\n",
      "         0.7765, 0.0000, 0.0000, 0.0000, 0.0000, 0.0000, 0.0000, 0.0000, 0.0000,\n",
      "         0.0000],\n",
      "        [0.0000, 0.0000, 0.0000, 0.0000, 0.0000, 0.0000, 0.0000, 0.0000, 0.0000,\n",
      "         0.6824, 0.9294, 0.9961, 0.9961, 0.9412, 0.3804, 0.0000, 0.3961, 1.0000,\n",
      "         0.7804, 0.0000, 0.0000, 0.0000, 0.0000, 0.0000, 0.0000, 0.0000, 0.0000,\n",
      "         0.0000],\n",
      "        [0.0000, 0.0000, 0.0000, 0.0000, 0.0000, 0.0000, 0.0000, 0.0000, 0.0000,\n",
      "         0.0000, 0.1451, 0.3020, 0.3020, 0.1725, 0.0000, 0.0000, 0.3922, 0.9922,\n",
      "         0.7765, 0.0000, 0.0000, 0.0000, 0.0000, 0.0000, 0.0000, 0.0000, 0.0000,\n",
      "         0.0000],\n",
      "        [0.0000, 0.0000, 0.0000, 0.0000, 0.0000, 0.0000, 0.0000, 0.0000, 0.0000,\n",
      "         0.0000, 0.0000, 0.0000, 0.0000, 0.0000, 0.0000, 0.0000, 0.3922, 0.9922,\n",
      "         0.7765, 0.0000, 0.0000, 0.0000, 0.0000, 0.0000, 0.0000, 0.0000, 0.0000,\n",
      "         0.0000],\n",
      "        [0.0000, 0.0000, 0.0000, 0.0000, 0.0000, 0.0000, 0.0000, 0.0000, 0.0000,\n",
      "         0.0000, 0.0000, 0.0000, 0.0000, 0.0000, 0.0000, 0.0000, 0.6157, 0.9922,\n",
      "         0.4000, 0.0000, 0.0000, 0.0000, 0.0000, 0.0000, 0.0000, 0.0000, 0.0000,\n",
      "         0.0000],\n",
      "        [0.0000, 0.0000, 0.0000, 0.0000, 0.0000, 0.0000, 0.0000, 0.0000, 0.0000,\n",
      "         0.0000, 0.0000, 0.0000, 0.0000, 0.0000, 0.0000, 0.0000, 0.8235, 0.9922,\n",
      "         0.7765, 0.0000, 0.0000, 0.0000, 0.0000, 0.0000, 0.0000, 0.0000, 0.0000,\n",
      "         0.0000],\n",
      "        [0.0000, 0.0000, 0.0000, 0.0000, 0.0000, 0.0000, 0.0000, 0.0000, 0.0000,\n",
      "         0.0000, 0.0000, 0.0000, 0.0000, 0.0000, 0.0000, 0.2078, 0.9569, 0.9922,\n",
      "         0.6235, 0.0000, 0.0000, 0.0000, 0.0000, 0.0000, 0.0000, 0.0000, 0.0000,\n",
      "         0.0000],\n",
      "        [0.0000, 0.0000, 0.0000, 0.0000, 0.0000, 0.0000, 0.0000, 0.0000, 0.0000,\n",
      "         0.0000, 0.0000, 0.0000, 0.0000, 0.0000, 0.0000, 0.2627, 0.9922, 0.9922,\n",
      "         0.3451, 0.0000, 0.0000, 0.0000, 0.0000, 0.0000, 0.0000, 0.0000, 0.0000,\n",
      "         0.0000],\n",
      "        [0.0000, 0.0000, 0.0000, 0.0000, 0.0000, 0.0000, 0.0000, 0.0000, 0.0000,\n",
      "         0.0000, 0.0000, 0.0000, 0.0000, 0.0000, 0.0000, 0.2627, 0.9922, 0.9922,\n",
      "         0.3451, 0.0000, 0.0000, 0.0000, 0.0000, 0.0000, 0.0000, 0.0000, 0.0000,\n",
      "         0.0000],\n",
      "        [0.0000, 0.0000, 0.0000, 0.0000, 0.0000, 0.0000, 0.0000, 0.0000, 0.0000,\n",
      "         0.0000, 0.0000, 0.0000, 0.0000, 0.0000, 0.0000, 0.1843, 0.9412, 0.9922,\n",
      "         0.3451, 0.0000, 0.0000, 0.0000, 0.0000, 0.0000, 0.0000, 0.0000, 0.0000,\n",
      "         0.0000],\n",
      "        [0.0000, 0.0000, 0.0000, 0.0000, 0.0000, 0.0000, 0.0000, 0.0000, 0.0000,\n",
      "         0.0000, 0.0000, 0.0000, 0.0000, 0.0000, 0.0000, 0.0000, 0.2784, 0.7490,\n",
      "         0.1961, 0.0000, 0.0000, 0.0000, 0.0000, 0.0000, 0.0000, 0.0000, 0.0000,\n",
      "         0.0000],\n",
      "        [0.0000, 0.0000, 0.0000, 0.0000, 0.0000, 0.0000, 0.0000, 0.0000, 0.0000,\n",
      "         0.0000, 0.0000, 0.0000, 0.0000, 0.0000, 0.0000, 0.0000, 0.0000, 0.0000,\n",
      "         0.0000, 0.0000, 0.0000, 0.0000, 0.0000, 0.0000, 0.0000, 0.0000, 0.0000,\n",
      "         0.0000],\n",
      "        [0.0000, 0.0000, 0.0000, 0.0000, 0.0000, 0.0000, 0.0000, 0.0000, 0.0000,\n",
      "         0.0000, 0.0000, 0.0000, 0.0000, 0.0000, 0.0000, 0.0000, 0.0000, 0.0000,\n",
      "         0.0000, 0.0000, 0.0000, 0.0000, 0.0000, 0.0000, 0.0000, 0.0000, 0.0000,\n",
      "         0.0000]])\n",
      "tensor(9)\n"
     ]
    }
   ],
   "source": [
    "data_test = enumerate(test_loader)\n",
    "batch_idx, (data_test_pic, data_test_label) = next(data_test)\n",
    "print(batch_idx)\n",
    "print(data_test_pic[0][0])\n",
    "print(data_test_label[0])"
   ],
   "metadata": {
    "collapsed": false,
    "pycharm": {
     "name": "#%% 查看数据集概貌\n"
    }
   }
  },
  {
   "cell_type": "code",
   "execution_count": 50,
   "outputs": [
    {
     "data": {
      "text/plain": "<Figure size 432x288 with 1 Axes>",
      "image/png": "[encoded data removed]"
     },
     "metadata": {
      "needs_background": "light"
     },
     "output_type": "display_data"
    }
   ],
   "source": [
    "plt.imshow(data_test_pic[0][0], cmap=\"binary\")\n",
    "plt.title(\"Ground Truth: {}\".format(data_test_label[0]))\n",
    "plt.show()"
   ],
   "metadata": {
    "collapsed": false,
    "pycharm": {
     "name": "#%%\n"
    }
   }
  },
  {
   "cell_type": "code",
   "execution_count": 6,
   "outputs": [],
   "source": [
    "import torch.nn as nn\n",
    "import torch.nn.functional as F\n",
    "\n",
    "class Net(nn.Module):\n",
    "    def __init__(self):\n",
    "        super(Net, self).__init__()\n",
    "        self.conv1 = nn.Conv2d(1, 10, kernel_size=(5,5))\n",
    "        self.conv2 = nn.Conv2d(10, 20, kernel_size=(5,5))\n",
    "        self.conv2_drop = nn.Dropout2d()\n",
    "        self.fc1 = nn.Linear(320, 50)\n",
    "        self.fc2 = nn.Linear(50, 10)\n",
    "    def forward(self, x):\n",
    "        x = F.relu(F.max_pool2d(self.conv1(x), 2))\n",
    "        x = F.relu(F.max_pool2d(self.conv2_drop(self.conv2(x)), 2))\n",
    "        x = x.view(-1, 320)\n",
    "        x = F.relu(self.fc1(x))\n",
    "        x = F.dropout(x, training=self.training)\n",
    "        x = self.fc2(x)\n",
    "        return F.log_softmax(x,1)"
   ],
   "metadata": {
    "collapsed": false,
    "pycharm": {
     "name": "#%% 构建训练网络\n"
    }
   }
  },
  {
   "cell_type": "code",
   "execution_count": 14,
   "outputs": [],
   "source": [
    "network = Net()\n",
    "learning_rate = 0.01\n",
    "momentum = 0.5\n",
    "optimizer = torch.optim.SGD(network.parameters(), lr = learning_rate, momentum=momentum)"
   ],
   "metadata": {
    "collapsed": false,
    "pycharm": {
     "name": "#%% 初始化网络与优化器\n"
    }
   }
  },
  {
   "cell_type": "code",
   "execution_count": 15,
   "outputs": [],
   "source": [
    "train_epochs = 3\n",
    "train_losses = []\n",
    "train_counter = []\n",
    "test_losses = []\n",
    "test_counter = [i*len(train_loader.dataset) for i in range(train_epochs + 1)]"
   ],
   "metadata": {
    "collapsed": false,
    "pycharm": {
     "name": "#%% 初始化训练参数\n"
    }
   }
  },
  {
   "cell_type": "code",
   "execution_count": 16,
   "outputs": [],
   "source": [
    "log_interval = 100\n",
    "def train(epoch):\n",
    "  network.train()\n",
    "  for batch_idx, (data_train_pic, data_train_label) in enumerate(train_loader):\n",
    "    optimizer.zero_grad()\n",
    "    output = network(data_train_pic)\n",
    "    loss = F.nll_loss(output, data_train_label)\n",
    "    loss.backward()\n",
    "    optimizer.step()\n",
    "    if batch_idx % log_interval == 0:\n",
    "      print('Train Epoch: {} [{}/{} ({:.0f}%)]\\tLoss: {:.6f}'.format(\n",
    "        epoch, batch_idx * len(data_train_pic), len(train_loader.dataset),\n",
    "        100. * batch_idx / len(train_loader), loss.item()))\n",
    "      train_losses.append(loss.item())\n",
    "      train_counter.append(\n",
    "        (batch_idx*64) + ((epoch-1)*len(train_loader.dataset)))\n",
    "      torch.save(network.state_dict(), './model/model.pth')\n",
    "      torch.save(optimizer.state_dict(), './model/optimizer.pth')"
   ],
   "metadata": {
    "collapsed": false,
    "pycharm": {
     "name": "#%% 定义单轮训练函数\n"
    }
   }
  },
  {
   "cell_type": "code",
   "execution_count": 36,
   "outputs": [],
   "source": [
    "def test():\n",
    "  network.eval()\n",
    "  test_loss = 0\n",
    "  correct = 0\n",
    "  with torch.no_grad():\n",
    "    for data, target in test_loader:\n",
    "      output = network(data)\n",
    "      test_loss += F.nll_loss(output, target, size_average=False).item()\n",
    "      pred = output.data.max(1, keepdim=True)[1]\n",
    "      correct += pred.eq(target.data.view_as(pred)).sum()\n",
    "  test_loss /= len(test_loader.dataset)\n",
    "  test_losses.append(test_loss)\n",
    "  print('\\nTest set: Avg. loss: {:.4f}, Accuracy: {}/{} ({:.0f}%)\\n'.format(\n",
    "    test_loss, correct, len(test_loader.dataset),\n",
    "    100. * correct / len(test_loader.dataset)))\n",
    "\n",
    "test()\n",
    "for epoch in range(1, train_epochs + 1):\n",
    "  train(epoch)\n",
    "  test()"
   ],
   "metadata": {
    "collapsed": false,
    "pycharm": {
     "name": "#%% 定义测试函数\n"
    }
   }
  },
  {
   "cell_type": "code",
   "execution_count": 17,
   "outputs": [
    {
     "name": "stdout",
     "output_type": "stream",
     "text": [
      "\n",
      "Test accu: 0.0940. loss: 2.3140\n",
      "\n",
      "Train Epoch: 1 [0/60000 (0%)]\tLoss: 2.306257\n",
      "Train Epoch: 1 [6400/60000 (11%)]\tLoss: 2.265684\n",
      "Train Epoch: 1 [12800/60000 (21%)]\tLoss: 2.096262\n",
      "Train Epoch: 1 [19200/60000 (32%)]\tLoss: 1.695201\n",
      "Train Epoch: 1 [25600/60000 (43%)]\tLoss: 1.017885\n",
      "Train Epoch: 1 [32000/60000 (53%)]\tLoss: 0.689446\n",
      "Train Epoch: 1 [38400/60000 (64%)]\tLoss: 0.701728\n",
      "Train Epoch: 1 [44800/60000 (75%)]\tLoss: 0.926958\n",
      "Train Epoch: 1 [51200/60000 (85%)]\tLoss: 0.695750\n",
      "Train Epoch: 1 [57600/60000 (96%)]\tLoss: 0.832465\n",
      "\n",
      "Test accu: 0.9080. loss: 0.3453\n",
      "\n",
      "Train Epoch: 2 [0/60000 (0%)]\tLoss: 0.523469\n",
      "Train Epoch: 2 [6400/60000 (11%)]\tLoss: 0.484867\n",
      "Train Epoch: 2 [12800/60000 (21%)]\tLoss: 0.574185\n",
      "Train Epoch: 2 [19200/60000 (32%)]\tLoss: 0.564033\n",
      "Train Epoch: 2 [25600/60000 (43%)]\tLoss: 0.757248\n",
      "Train Epoch: 2 [32000/60000 (53%)]\tLoss: 0.375098\n",
      "Train Epoch: 2 [38400/60000 (64%)]\tLoss: 0.319220\n",
      "Train Epoch: 2 [44800/60000 (75%)]\tLoss: 0.534558\n",
      "Train Epoch: 2 [51200/60000 (85%)]\tLoss: 0.493569\n",
      "Train Epoch: 2 [57600/60000 (96%)]\tLoss: 0.324194\n",
      "\n",
      "Test accu: 0.9420. loss: 0.2018\n",
      "\n",
      "Train Epoch: 3 [0/60000 (0%)]\tLoss: 0.454352\n",
      "Train Epoch: 3 [6400/60000 (11%)]\tLoss: 0.453660\n",
      "Train Epoch: 3 [12800/60000 (21%)]\tLoss: 0.509974\n",
      "Train Epoch: 3 [19200/60000 (32%)]\tLoss: 0.370347\n",
      "Train Epoch: 3 [25600/60000 (43%)]\tLoss: 0.312178\n",
      "Train Epoch: 3 [32000/60000 (53%)]\tLoss: 0.259727\n",
      "Train Epoch: 3 [38400/60000 (64%)]\tLoss: 0.459845\n",
      "Train Epoch: 3 [44800/60000 (75%)]\tLoss: 0.233833\n",
      "Train Epoch: 3 [51200/60000 (85%)]\tLoss: 0.233507\n",
      "Train Epoch: 3 [57600/60000 (96%)]\tLoss: 0.566470\n",
      "\n",
      "Test accu: 0.9610. loss: 0.1444\n",
      "\n"
     ]
    }
   ],
   "source": [
    "def test_n():\n",
    "  network.eval()\n",
    "  output = network(data_test_pic)\n",
    "  test_loss = F.nll_loss(output,data_test_label)\n",
    "  test_losses.append(test_loss.item())\n",
    "  output_label = torch.argmax(output,1)\n",
    "  accu = output_label.eq(data_test_label).sum()\n",
    "  print('\\nTest accu: {:.4f}. loss: {:.4f}\\n'.format(accu/len(data_test_label),test_loss))\n",
    "\n",
    "test_n()\n",
    "for epoch in range(1, train_epochs + 1):\n",
    "  train(epoch)\n",
    "  test_n()\n"
   ],
   "metadata": {
    "collapsed": false,
    "pycharm": {
     "name": "#%% 自定义个新的test_n()，直接使用交叉熵函数计算loss，并同样进行训练3轮次\n"
    }
   }
  },
  {
   "cell_type": "code",
   "execution_count": 18,
   "outputs": [
    {
     "data": {
      "text/plain": "<Figure size 432x288 with 1 Axes>",
      "image/png": "[encoded data removed]"
     },
     "metadata": {
      "needs_background": "light"
     },
     "output_type": "display_data"
    }
   ],
   "source": [
    "fig = plt.figure()\n",
    "plt.plot(train_counter, train_losses, color='blue')\n",
    "plt.scatter(test_counter, test_losses, color='red')\n",
    "plt.legend(['Train Loss', 'Test Loss'], loc='upper right')\n",
    "plt.xlabel('number of training examples seen')\n",
    "plt.ylabel('negative log likelihood loss')\n",
    "plt.show()"
   ],
   "metadata": {
    "collapsed": false,
    "pycharm": {
     "name": "#%% 绘制loss曲线图\n"
    }
   }
  },
  {
   "cell_type": "code",
   "execution_count": 21,
   "outputs": [
    {
     "name": "stdout",
     "output_type": "stream",
     "text": [
      "tensor([[3.9520e-02, 2.3961e-04, 9.7688e-04, 7.0488e-03, 2.5858e-03, 8.9536e-01,\n",
      "         2.2145e-02, 5.5720e-04, 1.9889e-02, 1.1678e-02]],\n",
      "       grad_fn=<SoftmaxBackward>)\n"
     ]
    },
    {
     "data": {
      "text/plain": "<Figure size 648x144 with 3 Axes>",
      "image/png": "[encoded data removed]"
     },
     "metadata": {
      "needs_background": "light"
     },
     "output_type": "display_data"
    }
   ],
   "source": [
    "def predict_single_pic(picname):\n",
    "    img = Image.open(picname)\n",
    "    plt.figure(figsize=(9,2))\n",
    "    plt.subplot(1,3,1)\n",
    "    plt.title(\"picture: {}\".format(picname))\n",
    "    plt.imshow(img)\n",
    "\n",
    "    reIm = img.resize((28,28), Image.ANTIALIAS)\n",
    "    im_arr = np.array(reIm.convert('L'))\n",
    "    threshold= 50\n",
    "    for i in range(28):\n",
    "        for j in range(28):\n",
    "            im_arr[i][j] = 255 if im_arr[i][j]<threshold else 0\n",
    "            im_arr[i][j] = im_arr[i][j]/255\n",
    "\n",
    "    #这一步的reshpae要注意\n",
    "    img_ready = im_arr.reshape([1,1,28,28])\n",
    "\n",
    "    # print(img_ready)\n",
    "    plt.subplot(1,3,2)\n",
    "    plt.imshow(img_ready[0][0],cmap=\"gray\")\n",
    "\n",
    "    c = torch.tensor(img_ready, dtype=torch.float)\n",
    "    network.eval()\n",
    "    out_img = network.forward(c)\n",
    "    out_img = torch.softmax(out_img,1)\n",
    "    print(out_img)\n",
    "    result = torch.argmax(out_img)\n",
    "    plt.subplot(1,3,3)\n",
    "    plt.bar(x=range(10), height=out_img[0].detach().numpy(), width=1, alpha=0.8, color='blue', label=\"the\")\n",
    "    plt.title(\"prediction: {}\".format(result))\n",
    "    plt.show()\n",
    "\n",
    "predict_single_pic(\"./pics/5.jpg\")"
   ],
   "metadata": {
    "collapsed": false,
    "pycharm": {
     "name": "#%% 验证单张图片是否正确\n"
    }
   }
  },
  {
   "cell_type": "code",
   "execution_count": 20,
   "outputs": [
    {
     "name": "stdout",
     "output_type": "stream",
     "text": [
      "tensor([[8.9373e-01, 3.3382e-04, 7.3426e-02, 1.5200e-03, 5.3896e-03, 2.4146e-03,\n",
      "         9.1319e-03, 5.7219e-04, 3.8228e-03, 9.6582e-03]],\n",
      "       grad_fn=<SoftmaxBackward>)\n"
     ]
    },
    {
     "data": {
      "text/plain": "<Figure size 648x144 with 3 Axes>",
      "image/png": "[encoded data removed]"
     },
     "metadata": {
      "needs_background": "light"
     },
     "output_type": "display_data"
    },
    {
     "name": "stdout",
     "output_type": "stream",
     "text": [
      "tensor([[0.0435, 0.0099, 0.0077, 0.5201, 0.0022, 0.2975, 0.0026, 0.0910, 0.0033,\n",
      "         0.0221]], grad_fn=<SoftmaxBackward>)\n"
     ]
    },
    {
     "data": {
      "text/plain": "<Figure size 648x144 with 3 Axes>",
      "image/png": "[encoded data removed]"
     },
     "metadata": {
      "needs_background": "light"
     },
     "output_type": "display_data"
    },
    {
     "name": "stdout",
     "output_type": "stream",
     "text": [
      "tensor([[4.8599e-03, 4.4266e-04, 2.5594e-03, 1.6268e-03, 1.9714e-02, 3.9350e-01,\n",
      "         5.2900e-01, 3.4604e-05, 4.7398e-02, 8.5646e-04]],\n",
      "       grad_fn=<SoftmaxBackward>)\n"
     ]
    },
    {
     "data": {
      "text/plain": "<Figure size 648x144 with 3 Axes>",
      "image/png": "[encoded data removed]"
     },
     "metadata": {
      "needs_background": "light"
     },
     "output_type": "display_data"
    },
    {
     "name": "stdout",
     "output_type": "stream",
     "text": [
      "tensor([[2.4620e-07, 8.8023e-04, 9.4480e-01, 1.6355e-02, 1.2391e-09, 3.8405e-08,\n",
      "         8.0481e-10, 2.2993e-02, 1.4969e-02, 1.3119e-06]],\n",
      "       grad_fn=<SoftmaxBackward>)\n"
     ]
    },
    {
     "data": {
      "text/plain": "<Figure size 648x144 with 3 Axes>",
      "image/png": "[encoded data removed]"
     },
     "metadata": {
      "needs_background": "light"
     },
     "output_type": "display_data"
    },
    {
     "name": "stdout",
     "output_type": "stream",
     "text": [
      "tensor([[0.0061, 0.1738, 0.0194, 0.0694, 0.1640, 0.0601, 0.0104, 0.0914, 0.1076,\n",
      "         0.2977]], grad_fn=<SoftmaxBackward>)\n"
     ]
    },
    {
     "data": {
      "text/plain": "<Figure size 648x144 with 3 Axes>",
      "image/png": "[encoded data removed]"
     },
     "metadata": {
      "needs_background": "light"
     },
     "output_type": "display_data"
    }
   ],
   "source": [
    "predict_single_pic(\"./pics/0.jpg\")\n",
    "predict_single_pic(\"./pics/3.jpg\")\n",
    "predict_single_pic(\"./pics/6.jpg\")\n",
    "predict_single_pic(\"./pics/7.jpg\")\n",
    "predict_single_pic(\"./pics/9.jpg\")"
   ],
   "metadata": {
    "collapsed": false,
    "pycharm": {
     "name": "#%%\n"
    }
   }
  },
  {
   "cell_type": "code",
   "execution_count": 2,
   "outputs": [
    {
     "ename": "NameError",
     "evalue": "name 'torch' is not defined",
     "output_type": "error",
     "traceback": [
      "\u001B[1;31m---------------------------------------------------------------------------\u001B[0m",
      "\u001B[1;31mNameError\u001B[0m                                 Traceback (most recent call last)",
      "\u001B[1;32m<ipython-input-2-b24bb5ec7ae6>\u001B[0m in \u001B[0;36m<module>\u001B[1;34m\u001B[0m\n\u001B[0;32m      1\u001B[0m \u001B[0mnetwork\u001B[0m \u001B[1;33m=\u001B[0m \u001B[0mNet\u001B[0m\u001B[1;33m(\u001B[0m\u001B[1;33m)\u001B[0m\u001B[1;33m\u001B[0m\u001B[1;33m\u001B[0m\u001B[0m\n\u001B[1;32m----> 2\u001B[1;33m \u001B[0mnetwork_state_dict\u001B[0m \u001B[1;33m=\u001B[0m \u001B[0mtorch\u001B[0m\u001B[1;33m.\u001B[0m\u001B[0mload\u001B[0m\u001B[1;33m(\u001B[0m\u001B[1;34m'model.pth'\u001B[0m\u001B[1;33m)\u001B[0m\u001B[1;33m\u001B[0m\u001B[1;33m\u001B[0m\u001B[0m\n\u001B[0m\u001B[0;32m      3\u001B[0m \u001B[0mnetwork\u001B[0m\u001B[1;33m.\u001B[0m\u001B[0mload_state_dict\u001B[0m\u001B[1;33m(\u001B[0m\u001B[0mnetwork_state_dict\u001B[0m\u001B[1;33m)\u001B[0m\u001B[1;33m\u001B[0m\u001B[1;33m\u001B[0m\u001B[0m\n\u001B[0;32m      4\u001B[0m \u001B[1;33m\u001B[0m\u001B[0m\n\u001B[0;32m      5\u001B[0m \u001B[1;33m\u001B[0m\u001B[0m\n",
      "\u001B[1;31mNameError\u001B[0m: name 'torch' is not defined"
     ]
    }
   ],
   "source": [
    "network = Net()\n",
    "network_state_dict = torch.load('model.pth')\n",
    "network.load_state_dict(network_state_dict)\n"
   ],
   "metadata": {
    "collapsed": false,
    "pycharm": {
     "name": "#%% 从模型文件中读取网络完成推理\n"
    }
   }
  },
  {
   "cell_type": "code",
   "execution_count": 3,
   "outputs": [
    {
     "data": {
      "text/plain": "<Figure size 432x288 with 1 Axes>",
      "image/png": "[encoded data removed]"
     },
     "metadata": {
      "needs_background": "light"
     },
     "output_type": "display_data"
    }
   ],
   "source": [],
   "metadata": {
    "collapsed": false,
    "pycharm": {
     "name": "#%%\n"
    }
   }
  },
  {
   "cell_type": "code",
   "execution_count": 5,
   "outputs": [],
   "source": [],
   "metadata": {
    "collapsed": false,
    "pycharm": {
     "name": "#%%\n"
    }
   }
  },
  {
   "cell_type": "code",
   "execution_count": null,
   "outputs": [],
   "source": [],
   "metadata": {
    "collapsed": false,
    "pycharm": {
     "name": "#%%\n"
    }
   }
  }
 ],
 "metadata": {
  "kernelspec": {
   "display_name": "Python 3",
   "language": "python",
   "name": "python3"
  },
  "language_info": {
   "codemirror_mode": {
    "name": "ipython",
    "version": 2
   },
   "file_extension": ".py",
   "mimetype": "text/x-python",
   "name": "python",
   "nbconvert_exporter": "python",
   "pygments_lexer": "ipython2",
   "version": "2.7.6"
  }
 },
 "nbformat": 4,
 "nbformat_minor": 0
}